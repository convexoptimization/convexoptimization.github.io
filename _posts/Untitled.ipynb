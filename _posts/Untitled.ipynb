{
 "cells": [
  {
   "cell_type": "markdown",
   "metadata": {},
   "source": [
    "# Notebook này dùng để tự học Julia\n",
    "\n",
    "#### Mục tiêu\n",
    "\n",
    "- Phân biệt những đối tượng cơ bản như: array, matrix, cell\n",
    "- Cách sử dụng cách phép toán ma trận cơ bản: nhân, chia, nối, reshape,...\n",
    "- Biết cách khai báo và sử dụng hàm\n",
    "- **Nắm vững cách vẽ hình**"
   ]
  },
  {
   "cell_type": "code",
   "execution_count": null,
   "metadata": {},
   "outputs": [],
   "source": [
    "using Plots\n",
    "\n",
    "X = rand(1,10)\n",
    "Y = X*2\n",
    "\n",
    "# Work fine\n",
    "plot(X,Y)\n",
    "scatter(X,Y)"
   ]
  },
  {
   "cell_type": "markdown",
   "metadata": {},
   "source": [
    "## Cách load file csv vào Julia\n",
    "\n",
    "- Trước hết cần cài đặt gói CSV"
   ]
  },
  {
   "cell_type": "code",
   "execution_count": null,
   "metadata": {},
   "outputs": [],
   "source": [
    "Pkg.status()\n",
    "Pkg.add(\"CSV\")\n",
    "using CSV\n",
    "data = CSV.read(\"zone_NH.csv\")"
   ]
  },
  {
   "cell_type": "markdown",
   "metadata": {},
   "source": [
    "## Một số lệnh làm việc với biến, kiểm tra linh tinh\n",
    "#### Lưu ý là các lệnh này là của <span style=\"color:red\">fresh Julia environment</span>, tức là làm việc được với tất cả các biến\n",
    "\n",
    "- **typeof()** Kiểm tra kiểu dữ liệu\n",
    "- **length()** Kiểm tra độ dài"
   ]
  },
  {
   "cell_type": "code",
   "execution_count": 39,
   "metadata": {},
   "outputs": [
    {
     "name": "stdout",
     "output_type": "stream",
     "text": [
      "15\n",
      "DataFrames.DataFrame\n"
     ]
    }
   ],
   "source": [
    "println(length(data))\n",
    "println(typeof(data))"
   ]
  },
  {
   "cell_type": "markdown",
   "metadata": {},
   "source": [
    "## Các lệnh kiểm tra dữ liệu kiểu DataFrame\n",
    "\n",
    "- Kiểm tra shape "
   ]
  },
  {
   "cell_type": "code",
   "execution_count": 42,
   "metadata": {},
   "outputs": [],
   "source": [
    "using DataFrames"
   ]
  },
  {
   "cell_type": "code",
   "execution_count": 45,
   "metadata": {},
   "outputs": [
    {
     "data": {
      "text/html": [
       "<table class=\"data-frame\"><thead><tr><th></th><th>index</th><th>Date</th><th>Hr_End</th><th>DA_Demand</th><th>RT_Demand</th><th>DA_LMP</th><th>DA_EC</th><th>DA_CC</th><th>DA_MLC</th><th>RT_LMP</th><th>RT_EC</th><th>RT_CC</th><th>RT_MLC</th><th>Dry_Bulb</th><th>Dew_Point</th></tr></thead><tbody><tr><th>1</th><td>0</td><td>2003-03-01</td><td>1</td><td>0.0</td><td>1055.0</td><td>72.76</td><td>72.89</td><td>0.0</td><td>-0.13</td><td>78.39</td><td>78.83</td><td>0.0</td><td>-0.44</td><td>16</td><td>15</td></tr><tr><th>2</th><td>1</td><td>2003-03-01</td><td>2</td><td>0.0</td><td>1017.0</td><td>70.88</td><td>71.02</td><td>0.0</td><td>-0.14</td><td>136.65</td><td>137.51</td><td>0.0</td><td>-0.86</td><td>13</td><td>12</td></tr><tr><th>3</th><td>2</td><td>2003-03-01</td><td>3</td><td>0.0</td><td>1000.0</td><td>69.87</td><td>70.0</td><td>0.0</td><td>-0.13</td><td>150.13</td><td>151.19</td><td>0.0</td><td>-1.06</td><td>14</td><td>12</td></tr><tr><th>4</th><td>3</td><td>2003-03-01</td><td>4</td><td>0.0</td><td>997.0</td><td>68.99</td><td>69.11</td><td>0.0</td><td>-0.12</td><td>149.53</td><td>150.55</td><td>0.0</td><td>-1.02</td><td>12</td><td>11</td></tr><tr><th>5</th><td>4</td><td>2003-03-01</td><td>5</td><td>0.0</td><td>1010.0</td><td>69.87</td><td>69.99</td><td>0.0</td><td>-0.12</td><td>145.65</td><td>146.43</td><td>0.0</td><td>-0.78</td><td>12</td><td>11</td></tr><tr><th>6</th><td>5</td><td>2003-03-01</td><td>6</td><td>0.0</td><td>1050.0</td><td>69.87</td><td>69.98</td><td>0.0</td><td>-0.11</td><td>156.62</td><td>157.09</td><td>0.0</td><td>-0.47</td><td>12</td><td>10</td></tr></tbody></table>"
      ],
      "text/plain": [
       "6×15 DataFrames.DataFrame. Omitted printing of 8 columns\n",
       "│ Row │ index │ Date       │ Hr_End │ DA_Demand │ RT_Demand │ DA_LMP │ DA_EC │\n",
       "├─────┼───────┼────────────┼────────┼───────────┼───────────┼────────┼───────┤\n",
       "│ 1   │ 0     │ 2003-03-01 │ 1      │ 0.0       │ 1055.0    │ 72.76  │ 72.89 │\n",
       "│ 2   │ 1     │ 2003-03-01 │ 2      │ 0.0       │ 1017.0    │ 70.88  │ 71.02 │\n",
       "│ 3   │ 2     │ 2003-03-01 │ 3      │ 0.0       │ 1000.0    │ 69.87  │ 70.0  │\n",
       "│ 4   │ 3     │ 2003-03-01 │ 4      │ 0.0       │ 997.0     │ 68.99  │ 69.11 │\n",
       "│ 5   │ 4     │ 2003-03-01 │ 5      │ 0.0       │ 1010.0    │ 69.87  │ 69.99 │\n",
       "│ 6   │ 5     │ 2003-03-01 │ 6      │ 0.0       │ 1050.0    │ 69.87  │ 69.98 │"
      ]
     },
     "execution_count": 45,
     "metadata": {},
     "output_type": "execute_result"
    }
   ],
   "source": [
    "head(data)"
   ]
  },
  {
   "cell_type": "code",
   "execution_count": 46,
   "metadata": {},
   "outputs": [
    {
     "data": {
      "text/html": [
       "<table class=\"data-frame\"><thead><tr><th></th><th>index</th><th>Date</th><th>Hr_End</th><th>DA_Demand</th><th>RT_Demand</th><th>DA_LMP</th><th>DA_EC</th><th>DA_CC</th><th>DA_MLC</th><th>RT_LMP</th><th>RT_EC</th><th>RT_CC</th><th>RT_MLC</th><th>Dry_Bulb</th><th>Dew_Point</th></tr></thead><tbody><tr><th>1</th><td>119106</td><td>2016-09-30</td><td>19</td><td>1345.1</td><td>1349.71</td><td>39.7</td><td>39.56</td><td>0.0</td><td>0.14</td><td>21.61</td><td>21.55</td><td>0.0</td><td>0.06</td><td>57</td><td>37</td></tr><tr><th>2</th><td>119107</td><td>2016-09-30</td><td>20</td><td>1368.7</td><td>1354.29</td><td>39.54</td><td>39.36</td><td>0.0</td><td>0.18</td><td>20.81</td><td>20.74</td><td>0.0</td><td>0.07</td><td>55</td><td>35</td></tr><tr><th>3</th><td>119108</td><td>2016-09-30</td><td>21</td><td>1318.4</td><td>1298.64</td><td>31.62</td><td>31.49</td><td>0.0</td><td>0.13</td><td>19.83</td><td>19.79</td><td>0.0</td><td>0.04</td><td>54</td><td>37</td></tr><tr><th>4</th><td>119109</td><td>2016-09-30</td><td>22</td><td>1212.2</td><td>1213.17</td><td>24.14</td><td>23.91</td><td>0.0</td><td>0.23</td><td>20.58</td><td>20.44</td><td>0.0</td><td>0.14</td><td>53</td><td>39</td></tr><tr><th>5</th><td>119110</td><td>2016-09-30</td><td>23</td><td>1084.4</td><td>1100.83</td><td>23.96</td><td>23.83</td><td>0.0</td><td>0.13</td><td>17.86</td><td>17.77</td><td>0.0</td><td>0.09</td><td>53</td><td>41</td></tr><tr><th>6</th><td>119111</td><td>2016-09-30</td><td>24</td><td>973.4</td><td>991.9</td><td>21.3</td><td>21.23</td><td>0.0</td><td>0.07</td><td>16.64</td><td>16.62</td><td>0.0</td><td>0.02</td><td>54</td><td>39</td></tr></tbody></table>"
      ],
      "text/plain": [
       "6×15 DataFrames.DataFrame. Omitted printing of 8 columns\n",
       "│ Row │ index  │ Date       │ Hr_End │ DA_Demand │ RT_Demand │ DA_LMP │ DA_EC │\n",
       "├─────┼────────┼────────────┼────────┼───────────┼───────────┼────────┼───────┤\n",
       "│ 1   │ 119106 │ 2016-09-30 │ 19     │ 1345.1    │ 1349.71   │ 39.7   │ 39.56 │\n",
       "│ 2   │ 119107 │ 2016-09-30 │ 20     │ 1368.7    │ 1354.29   │ 39.54  │ 39.36 │\n",
       "│ 3   │ 119108 │ 2016-09-30 │ 21     │ 1318.4    │ 1298.64   │ 31.62  │ 31.49 │\n",
       "│ 4   │ 119109 │ 2016-09-30 │ 22     │ 1212.2    │ 1213.17   │ 24.14  │ 23.91 │\n",
       "│ 5   │ 119110 │ 2016-09-30 │ 23     │ 1084.4    │ 1100.83   │ 23.96  │ 23.83 │\n",
       "│ 6   │ 119111 │ 2016-09-30 │ 24     │ 973.4     │ 991.9     │ 21.3   │ 21.23 │"
      ]
     },
     "execution_count": 46,
     "metadata": {},
     "output_type": "execute_result"
    }
   ],
   "source": [
    "tail(data)"
   ]
  },
  {
   "cell_type": "code",
   "execution_count": null,
   "metadata": {},
   "outputs": [],
   "source": []
  },
  {
   "cell_type": "code",
   "execution_count": null,
   "metadata": {},
   "outputs": [],
   "source": []
  }
 ],
 "metadata": {
  "kernelspec": {
   "display_name": "Julia 0.6.2",
   "language": "julia",
   "name": "julia-0.6"
  },
  "language_info": {
   "file_extension": ".jl",
   "mimetype": "application/julia",
   "name": "julia",
   "version": "0.6.2"
  }
 },
 "nbformat": 4,
 "nbformat_minor": 2
}
